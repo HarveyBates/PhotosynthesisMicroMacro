{
 "cells": [
  {
   "cell_type": "code",
   "execution_count": 589,
   "metadata": {},
   "outputs": [],
   "source": [
    "import pandas as pd\n",
    "import numpy as np\n",
    "import csv\n",
    "import matplotlib.pyplot as plt\n",
    "import os\n",
    "import pprint"
   ]
  },
  {
   "cell_type": "code",
   "execution_count": 590,
   "metadata": {},
   "outputs": [],
   "source": [
    "## Specfify working directory & Dir of output file\n",
    "DIR_LC = \"C:\\\\Users\\\\Owner\\\\OneDrive - UTS\\Chapter 4\\\\Chapter 4 Experimental Data\\\\Light Curves (MC-PAM)\\\\Day5 Rep1\"\n",
    "DIR_SIGMA = \"C:\\\\Users\\\\Owner\\\\OneDrive - UTS\\\\Chapter 4\\\\Chapter 4 Experimental Data\\\\Sigma(II)\\\\Day5 R1\"\n",
    "DIR_OUTPUT = \"C:\\\\Users\\\\Owner\\\\OneDrive - UTS\\\\Chapter 4\\\\Chapter 4 Experimental Data\\\\Organised Data\"\n",
    "os.chdir(DIR_LC)"
   ]
  },
  {
   "cell_type": "code",
   "execution_count": 652,
   "metadata": {},
   "outputs": [],
   "source": [
    "## Import Light Curve Files\n",
    "LIGHT_CURVE_FILES = {\"Bottle1\": \"{}\\\\PB1.csv\".format(DIR_LC),\n",
    "              \"Bottle2\": \"{}\\\\PB2.csv\".format(DIR_LC),\n",
    "               \"Bottle3\": \"{}\\\\PB3.csv\".format(DIR_LC),\n",
    "               \"Bottle4\": \"{}\\\\PB4.csv\".format(DIR_LC),\n",
    "               \"Bottle6\": \"{}\\\\PB6.csv\".format(DIR_LC),\n",
    "               \"Bottle7\": \"{}\\\\PB7.csv\".format(DIR_LC),\n",
    "               \"Bottle8\": \"{}\\\\PB8.csv\".format(DIR_LC),\n",
    "               \"Bottle9\": \"{}\\\\PB9.csv\".format(DIR_LC),\n",
    "               \"Bottle10\": \"{}\\\\PB10.csv\".format(DIR_LC),\n",
    "              }\n",
    "\n",
    "LC_DATA = list()\n",
    "for i in range(11):\n",
    "    if i != 0 and i != 5:\n",
    "        data = pd.read_csv(LIGHT_CURVE_FILES[\"Bottle{}\".format(i)], sep=\";\", encoding='cp1252')\n",
    "        LC_DATA.append(data)    "
   ]
  },
  {
   "cell_type": "code",
   "execution_count": 653,
   "metadata": {},
   "outputs": [],
   "source": [
    "## Import Sigma Files\n",
    "SIGMA_FILES = {\"Bottle1\": \"{}\\\\PB1.csv\".format(DIR_SIGMA),\n",
    "              \"Bottle2\": \"{}\\\\PB2.csv\".format(DIR_SIGMA),\n",
    "               \"Bottle3\": \"{}\\\\PB3.csv\".format(DIR_SIGMA),\n",
    "               \"Bottle4\": \"{}\\\\PB4.csv\".format(DIR_SIGMA),\n",
    "               \"Bottle6\": \"{}\\\\PB6.csv\".format(DIR_SIGMA),\n",
    "               \"Bottle7\": \"{}\\\\PB7.csv\".format(DIR_SIGMA),\n",
    "               \"Bottle8\": \"{}\\\\PB8.csv\".format(DIR_SIGMA),\n",
    "               \"Bottle9\": \"{}\\\\PB9.csv\".format(DIR_SIGMA),\n",
    "               \"Bottle10\": \"{}\\\\PB10.csv\".format(DIR_SIGMA),\n",
    "              }\n",
    "\n",
    "SIGMA_DATA = list()\n",
    "for i in range(11):\n",
    "    if i != 0 and i != 5:\n",
    "        data = pd.read_csv(SIGMA_FILES[\"Bottle{}\".format(i)], sep=\";\", encoding='cp1252')\n",
    "        SIGMA_DATA.append(data)    "
   ]
  },
  {
   "cell_type": "code",
   "execution_count": 654,
   "metadata": {},
   "outputs": [
    {
     "name": "stdout",
     "output_type": "stream",
     "text": [
      "0       nm²\n",
      "1     3.043\n",
      "2     2.376\n",
      "3     0.727\n",
      "4     1.280\n",
      "5     1.579\n",
      "Name: Sigma, dtype: object\n"
     ]
    }
   ],
   "source": [
    "print(SIGMA_DATA[0][\"Sigma\"])"
   ]
  },
  {
   "cell_type": "code",
   "execution_count": 675,
   "metadata": {},
   "outputs": [
    {
     "name": "stdout",
     "output_type": "stream",
     "text": [
      "{'Bottle1': nan}\n",
      "{'Bottle1': nan}\n",
      "{'Bottle1': 0.0}\n",
      "{'Bottle1': 0.0}\n",
      "{'Bottle1': 1.9017475999999998}\n",
      "{'Bottle1': 10.4596118}\n",
      "{'Bottle1': 29.477087799999996}\n",
      "{'Bottle1': 52.298058999999995}\n",
      "{'Bottle1': 76.069904}\n",
      "{'Bottle1': 108.39961319999999}\n",
      "{'Bottle1': 142.63107}\n",
      "{'Bottle1': 185.42039099999997}\n",
      "{'Bottle1': 247.22718799999996}\n",
      "{'Bottle1': 328.05146099999996}\n",
      "{'Bottle1': 418.38447199999996}\n",
      "{'Bottle1': 528.6858328}\n",
      "{'Bottle1': 656.1029219999999}\n",
      "{'Bottle1': 802.5374871999999}\n",
      "{'Bottle1': 957.5299165999999}\n",
      "{'Bottle1': 1147.7046765999999}\n",
      "{'Bottle1': 1344.5355531999999}\n",
      "{'Bottle1': 1606.0258481999997}\n",
      "{'Bottle1': 1896.9932309999997}\n",
      "{'Bottle1': nan}\n",
      "{'Bottle1': nan}\n",
      "{'Bottle1': nan}\n",
      "{'Bottle1': 0.0}\n",
      "{'Bottle1': 0.0}\n",
      "{'Bottle1': 0.9460561999999999}\n",
      "{'Bottle1': 1.8921123999999998}\n",
      "{'Bottle1': 10.406618199999999}\n",
      "{'Bottle1': 29.327742199999996}\n",
      "{'Bottle1': 52.03309099999999}\n",
      "{'Bottle1': 75.684496}\n",
      "{'Bottle1': 107.85040679999999}\n",
      "{'Bottle1': 141.90842999999998}\n",
      "{'Bottle1': 184.48095899999998}\n",
      "{'Bottle1': 245.97461199999998}\n",
      "{'Bottle1': 326.389389}\n",
      "{'Bottle1': 416.26472799999993}\n",
      "{'Bottle1': 526.0072471999999}\n",
      "{'Bottle1': 652.778778}\n",
      "{'Bottle1': 798.4714327999999}\n",
      "{'Bottle1': 952.6785934}\n",
      "{'Bottle1': 1141.8898333999998}\n",
      "{'Bottle1': 1337.7234667999999}\n",
      "{'Bottle1': 1597.8889218}\n",
      "{'Bottle1': 1887.3821189999999}\n",
      "{'Bottle1': nan}\n",
      "{'Bottle1': nan}\n",
      "{'Bottle1': nan}\n",
      "{'Bottle1': 0.0}\n",
      "{'Bottle1': 0.0}\n",
      "{'Bottle1': 0.9659288}\n",
      "{'Bottle1': 1.9318576}\n",
      "{'Bottle1': 10.6252168}\n",
      "{'Bottle1': 29.9437928}\n",
      "{'Bottle1': 53.126084}\n",
      "{'Bottle1': 77.274304}\n",
      "{'Bottle1': 110.1158832}\n",
      "{'Bottle1': 144.88932}\n",
      "{'Bottle1': 188.35611600000001}\n",
      "{'Bottle1': 251.141488}\n",
      "{'Bottle1': 333.245436}\n",
      "{'Bottle1': 425.008672}\n",
      "{'Bottle1': 537.0564128}\n",
      "{'Bottle1': 666.490872}\n",
      "{'Bottle1': 815.2439072000001}\n",
      "{'Bottle1': 972.6903016}\n",
      "{'Bottle1': 1165.8760616}\n",
      "{'Bottle1': 1365.8233232}\n",
      "{'Bottle1': 1631.4537432}\n",
      "{'Bottle1': 1927.0279560000001}\n",
      "{'Bottle1': nan}\n",
      "{'Bottle1': nan}\n",
      "{'Bottle1': nan}\n",
      "{'Bottle1': 0.0}\n",
      "{'Bottle1': 0.0}\n",
      "{'Bottle1': 0.9665309999999999}\n",
      "{'Bottle1': 1.9330619999999998}\n",
      "{'Bottle1': 10.631841}\n",
      "{'Bottle1': 29.962460999999998}\n",
      "{'Bottle1': 53.15920499999999}\n",
      "{'Bottle1': 77.32248}\n",
      "{'Bottle1': 110.18453399999999}\n",
      "{'Bottle1': 144.97965}\n",
      "{'Bottle1': 188.47354499999997}\n",
      "{'Bottle1': 251.29806}\n",
      "{'Bottle1': 333.453195}\n",
      "{'Bottle1': 425.27363999999994}\n",
      "{'Bottle1': 537.3912359999999}\n",
      "{'Bottle1': 666.90639}\n",
      "{'Bottle1': 815.7521639999999}\n",
      "{'Bottle1': 973.296717}\n",
      "{'Bottle1': 1166.602917}\n",
      "{'Bottle1': 1366.674834}\n",
      "{'Bottle1': 1632.4708589999998}\n",
      "{'Bottle1': 1928.2293449999997}\n",
      "{'Bottle1': nan}\n",
      "{'Bottle1': nan}\n",
      "{'Bottle1': nan}\n",
      "{'Bottle1': 0.0}\n",
      "{'Bottle1': 0.0}\n",
      "{'Bottle1': 0.9683376}\n",
      "{'Bottle1': 1.9366752}\n",
      "{'Bottle1': 10.6517136}\n",
      "{'Bottle1': 30.0184656}\n",
      "{'Bottle1': 53.258568000000004}\n",
      "{'Bottle1': 77.467008}\n",
      "{'Bottle1': 110.3904864}\n",
      "{'Bottle1': 145.25064}\n",
      "{'Bottle1': 188.825832}\n",
      "{'Bottle1': 251.767776}\n",
      "{'Bottle1': 334.076472}\n",
      "{'Bottle1': 426.06854400000003}\n",
      "{'Bottle1': 538.3957056}\n",
      "{'Bottle1': 668.152944}\n",
      "{'Bottle1': 817.2769344000001}\n",
      "{'Bottle1': 975.1159632}\n",
      "{'Bottle1': 1168.7834832}\n",
      "{'Bottle1': 1369.2293664000001}\n",
      "{'Bottle1': 1635.5222064}\n",
      "{'Bottle1': 1931.833512}\n",
      "{'Bottle1': nan}\n",
      "{'Bottle1': nan}\n",
      "{'Bottle1': nan}\n",
      "{'Bottle1': 0.0}\n",
      "{'Bottle1': 0.0}\n",
      "{'Bottle1': 0.9316033999999999}\n",
      "{'Bottle1': 1.8632067999999997}\n",
      "{'Bottle1': 10.247637399999999}\n",
      "{'Bottle1': 28.879705399999995}\n",
      "{'Bottle1': 51.23818699999999}\n",
      "{'Bottle1': 74.52827199999999}\n",
      "{'Bottle1': 106.20278759999998}\n",
      "{'Bottle1': 139.74050999999997}\n",
      "{'Bottle1': 181.66266299999998}\n",
      "{'Bottle1': 242.21688399999996}\n",
      "{'Bottle1': 321.4031729999999}\n",
      "{'Bottle1': 409.9054959999999}\n",
      "{'Bottle1': 517.9714903999999}\n",
      "{'Bottle1': 642.8063459999998}\n",
      "{'Bottle1': 786.2732695999999}\n",
      "{'Bottle1': 938.1246237999999}\n",
      "{'Bottle1': 1124.4453038}\n",
      "{'Bottle1': 1317.2872075999999}\n",
      "{'Bottle1': 1573.4781425999997}\n",
      "{'Bottle1': 1858.5487829999997}\n",
      "{'Bottle1': nan}\n",
      "{'Bottle1': nan}\n",
      "{'Bottle1': nan}\n",
      "{'Bottle1': 0.0}\n",
      "{'Bottle1': 0.0}\n",
      "{'Bottle1': 0.9731552}\n",
      "{'Bottle1': 1.9463104}\n",
      "{'Bottle1': 10.7047072}\n",
      "{'Bottle1': 30.1678112}\n",
      "{'Bottle1': 53.523536}\n",
      "{'Bottle1': 77.852416}\n",
      "{'Bottle1': 110.9396928}\n",
      "{'Bottle1': 145.97328}\n",
      "{'Bottle1': 189.765264}\n",
      "{'Bottle1': 253.020352}\n",
      "{'Bottle1': 335.738544}\n",
      "{'Bottle1': 428.188288}\n",
      "{'Bottle1': 541.0742912}\n",
      "{'Bottle1': 671.477088}\n",
      "{'Bottle1': 821.3429888}\n",
      "{'Bottle1': 979.9672864}\n",
      "{'Bottle1': 1174.5983264}\n",
      "{'Bottle1': 1376.0414528}\n",
      "{'Bottle1': 1643.6591328}\n",
      "{'Bottle1': 1941.444624}\n",
      "{'Bottle1': nan}\n",
      "{'Bottle1': nan}\n",
      "{'Bottle1': nan}\n",
      "{'Bottle1': 0.0}\n",
      "{'Bottle1': 0.0}\n",
      "{'Bottle1': 0.9291945999999999}\n",
      "{'Bottle1': 1.8583891999999997}\n",
      "{'Bottle1': 10.221140599999998}\n",
      "{'Bottle1': 28.805032599999997}\n",
      "{'Bottle1': 51.10570299999999}\n",
      "{'Bottle1': 74.335568}\n",
      "{'Bottle1': 105.92818439999999}\n",
      "{'Bottle1': 139.37919}\n",
      "{'Bottle1': 181.19294699999998}\n",
      "{'Bottle1': 241.59059599999998}\n",
      "{'Bottle1': 320.57213699999994}\n",
      "{'Bottle1': 408.84562399999993}\n",
      "{'Bottle1': 516.6321975999999}\n",
      "{'Bottle1': 641.1442739999999}\n",
      "{'Bottle1': 784.2402423999999}\n",
      "{'Bottle1': 935.6989621999999}\n",
      "{'Bottle1': 1121.5378821999998}\n",
      "{'Bottle1': 1313.8811643999998}\n",
      "{'Bottle1': 1569.4096793999997}\n",
      "{'Bottle1': 1853.7432269999997}\n",
      "{'Bottle1': nan}\n",
      "{'Bottle1': nan}\n",
      "{'Bottle1': nan}\n",
      "{'Bottle1': 0.0}\n",
      "{'Bottle1': 0.0}\n",
      "{'Bottle1': 0.9207637999999999}\n",
      "{'Bottle1': 1.8415275999999998}\n",
      "{'Bottle1': 10.128401799999999}\n",
      "{'Bottle1': 28.543677799999998}\n",
      "{'Bottle1': 50.642008999999995}\n",
      "{'Bottle1': 73.661104}\n",
      "{'Bottle1': 104.96707319999999}\n",
      "{'Bottle1': 138.11457}\n",
      "{'Bottle1': 179.54894099999999}\n",
      "{'Bottle1': 239.398588}\n",
      "{'Bottle1': 317.66351099999997}\n",
      "{'Bottle1': 405.13607199999996}\n",
      "{'Bottle1': 511.9446728}\n",
      "{'Bottle1': 635.3270219999999}\n",
      "{'Bottle1': 777.1246471999999}\n",
      "{'Bottle1': 927.2091465999999}\n",
      "{'Bottle1': 1111.3619065999999}\n",
      "{'Bottle1': 1301.9600131999998}\n",
      "{'Bottle1': 1555.1700581999999}\n",
      "{'Bottle1': 1836.9237809999997}\n",
      "{'Bottle1': nan}\n"
     ]
    }
   ],
   "source": [
    "## Calculate PAR(II) and ETR(II)\n",
    "PAR_II_VALUES = {}\n",
    "ETR_II_VALUES = {}\n",
    "for i in range(len(LC_DATA)):\n",
    "    PARII_VALUES, ETRII_VALUES = [], []\n",
    "    for x in range(len(LC_DATA[i][\"ETR\"])):\n",
    "        PAR_II_CALC = float(SIGMA_DATA[i][\"Sigma\"][5])  * 0.6022 * LC_DATA[i][\"PAR\"][x] \n",
    "        ETR_II_CALC = PAR_II_CALC * (LC_DATA[i][\"Y(II)\"][x] / np.nanmax(LC_DATA[i][\"Y(II)\"]))\n",
    "        PARII_VALUES.append(PAR_II_CALC)\n",
    "        ETRII_VALUES.append(ETR_II_CALC)\n",
    "        PAR_II_VALUES[\"Bottle1\"] = PAR_II_CALC\n",
    "        \n",
    "        print(PAR_II_VALUES)"
   ]
  },
  {
   "cell_type": "code",
   "execution_count": 633,
   "metadata": {},
   "outputs": [
    {
     "data": {
      "text/plain": [
       "[<matplotlib.lines.Line2D at 0x162c7a018c8>]"
      ]
     },
     "execution_count": 633,
     "metadata": {},
     "output_type": "execute_result"
    },
    {
     "data": {
      "image/png": "[encoded data removed]",
      "text/plain": [
       "<Figure size 432x288 with 1 Axes>"
      ]
     },
     "metadata": {
      "needs_background": "light"
     },
     "output_type": "display_data"
    }
   ],
   "source": [
    "plt.plot(PAR_II_VALUES, ETR_II_VALUES)"
   ]
  },
  {
   "cell_type": "code",
   "execution_count": 592,
   "metadata": {
    "scrolled": true
   },
   "outputs": [
    {
     "data": {
      "text/plain": [
       "<ErrorbarContainer object of 3 artists>"
      ]
     },
     "execution_count": 592,
     "metadata": {},
     "output_type": "execute_result"
    },
    {
     "data": {
      "image/png": "[encoded data removed]",
      "text/plain": [
       "<Figure size 432x288 with 1 Axes>"
      ]
     },
     "metadata": {
      "needs_background": "light"
     },
     "output_type": "display_data"
    }
   ],
   "source": [
    "## Find Average and StDev of Selected Parameter\n",
    "VALUE_TO_PROCESS = \"ETR\"\n",
    "\n",
    "PARAMETER_AV, PARAMETER_STDEV = [], []\n",
    "for values in BOTTLE_REP1[[VALUE_TO_PROCESS]]:\n",
    "    PARAMETER_AV.append((BOTTLE_REP1[values] + BOTTLE_REP2[values] + BOTTLE_REP3[values])/3)\n",
    "    PARAMETER_STDEV.append(np.std([BOTTLE_REP1[values], BOTTLE_REP2[values], BOTTLE_REP3[values]]))\n",
    "\n",
    "## Reshape and flatten array\n",
    "PARAMETER_AV = np.transpose(PARAMETER_AV)\n",
    "PARAMETER_AV = PARAMETER_AV.flatten()\n",
    "PARAMETER_STDEV = np.transpose(PARAMETER_STDEV)\n",
    "PARAMETER_STDEV = PARAMETER_STDEV.flatten()\n",
    "\n",
    "## Plot parameter\n",
    "plt.errorbar(np.array(BOTTLE_REP2[[\"PAR\"]]), PARAMETER_AV, yerr=PARAMETER_STDEV)"
   ]
  },
  {
   "cell_type": "code",
   "execution_count": 567,
   "metadata": {},
   "outputs": [],
   "source": [
    "\n",
    "PARII_AV = []\n",
    "for values in BOTTLE_REP1[[\"PAR\"]]:\n",
    "    BOTTLE1_CALC_PARII = float(SIGMA_REP1[\"Sigma\"][5]) * 0.6022 * BOTTLE_REP1[values]\n",
    "    PARII_AV.append(BOTTLE1_CALC_PARII)\n",
    "PARII_AV = np.transpose(PARII_AV)\n",
    "PARII_AV = PARII_AV.flatten()\n",
    "\n",
    "ETRII_AV = []\n",
    "for values in BOTTLE_REP1[[\"Y(II)\"]]:\n",
    "    for i in range(len(PARII_AV)):\n",
    "        BOTTLE_CALC_ETRII = PARII_AV[i] * (BOTTLE_REP1[values][i] / np.nanmax(BOTTLE_REP1[values]))\n",
    "        ETRII_AV.append(BOTTLE_CALC_ETRII)"
   ]
  },
  {
   "cell_type": "code",
   "execution_count": 570,
   "metadata": {},
   "outputs": [
    {
     "name": "stdout",
     "output_type": "stream",
     "text": [
      "nan\n",
      "nan\n",
      "nan\n",
      "0.0\n",
      "1.8486\n",
      "9.5977\n",
      "22.2725\n",
      "35.8636\n",
      "51.3153\n",
      "73.1243\n",
      "95.8178\n",
      "120.1607\n",
      "146.748\n",
      "169.5238\n",
      "185.2345\n",
      "196.4112\n",
      "200.6795\n",
      "201.7552\n",
      "199.2625\n",
      "195.5586\n",
      "187.7843\n",
      "177.2012\n",
      "164.2648\n",
      "nan\n",
      "\n",
      "nan\n",
      "nan\n",
      "0.0\n",
      "0.0\n",
      "1.9\n",
      "10.46\n",
      "29.48\n",
      "52.3\n",
      "76.07\n",
      "108.4\n",
      "142.63\n",
      "185.42\n",
      "247.23\n",
      "328.05\n",
      "418.38\n",
      "528.69\n",
      "656.1\n",
      "802.54\n",
      "957.53\n",
      "1147.7\n",
      "1344.54\n",
      "1606.03\n",
      "1896.99\n",
      "nan\n"
     ]
    }
   ],
   "source": [
    "for values in ETRII_AV:\n",
    "    print(round(values, 4))\n",
    "    \n",
    "print()\n",
    "for values in PARII_AV:\n",
    "    print(round(values, 2))"
   ]
  },
  {
   "cell_type": "code",
   "execution_count": 562,
   "metadata": {},
   "outputs": [
    {
     "data": {
      "text/plain": [
       "[<matplotlib.lines.Line2D at 0x162c78445c8>]"
      ]
     },
     "execution_count": 562,
     "metadata": {},
     "output_type": "execute_result"
    },
    {
     "data": {
      "image/png": "[encoded data removed]",
      "text/plain": [
       "<Figure size 432x288 with 1 Axes>"
      ]
     },
     "metadata": {
      "needs_background": "light"
     },
     "output_type": "display_data"
    }
   ],
   "source": [
    "plt.plot(PARII_AV, ETRII_AV)"
   ]
  },
  {
   "cell_type": "code",
   "execution_count": 485,
   "metadata": {
    "scrolled": true
   },
   "outputs": [
    {
     "name": "stdout",
     "output_type": "stream",
     "text": [
      "nan\n",
      "nan\n",
      "nan\n",
      "0.0\n",
      "0.4\n",
      "1.4\n",
      "4.3\n",
      "8.3667\n",
      "12.8333\n",
      "18.3333\n",
      "25.1\n",
      "32.2333\n",
      "39.8667\n",
      "47.5\n",
      "53.6667\n",
      "57.9\n",
      "60.5667\n",
      "61.7\n",
      "61.9\n",
      "61.1333\n",
      "59.6\n",
      "57.2333\n",
      "54.1\n",
      "nan\n",
      "nan\n",
      "nan\n",
      "nan\n",
      "nan\n",
      "0.0\n",
      "0.1414\n",
      "1.1314\n",
      "1.9096\n",
      "2.1484\n",
      "2.3837\n",
      "3.3728\n",
      "3.6779\n",
      "4.0828\n",
      "4.6457\n",
      "4.4144\n",
      "3.7854\n",
      "3.5223\n",
      "3.0706\n",
      "2.9017\n",
      "2.9223\n",
      "2.9579\n",
      "2.953\n",
      "3.3639\n",
      "3.1948\n",
      "nan\n",
      "nan\n"
     ]
    }
   ],
   "source": [
    "## Print out values\n",
    "for values in PARAMETER_AV:\n",
    "    print(round(values, 4))\n",
    "\n",
    "for values in PARAMETER_STDEV:\n",
    "    print(round(values, 4))"
   ]
  },
  {
   "cell_type": "code",
   "execution_count": null,
   "metadata": {},
   "outputs": [],
   "source": []
  }
 ],
 "metadata": {
  "kernelspec": {
   "display_name": "Python 3",
   "language": "python",
   "name": "python3"
  },
  "language_info": {
   "codemirror_mode": {
    "name": "ipython",
    "version": 3
   },
   "file_extension": ".py",
   "mimetype": "text/x-python",
   "name": "python",
   "nbconvert_exporter": "python",
   "pygments_lexer": "ipython3",
   "version": "3.7.4"
  }
 },
 "nbformat": 4,
 "nbformat_minor": 2
}
