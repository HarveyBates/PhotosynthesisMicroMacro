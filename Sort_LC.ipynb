{
 "cells": [
  {
   "cell_type": "code",
   "execution_count": 478,
   "metadata": {},
   "outputs": [],
   "source": [
    "import pandas as pd\n",
    "import numpy as np\n",
    "import csv\n",
    "import matplotlib.pyplot as plt\n",
    "import os"
   ]
  },
  {
   "cell_type": "code",
   "execution_count": 517,
   "metadata": {},
   "outputs": [],
   "source": [
    "## Specfify working directory & Dir of output file\n",
    "\n",
    "LC_FOLDER_NAME = \"Day5 Rep5\"\n",
    "SIMGA_FOLDER_NAME = \"Day5 R5\"\n",
    "DIR_LC = \"C:\\\\Users\\\\Owner\\\\OneDrive - UTS\\Chapter 4\\\\Chapter 4 Experimental Data\\\\Light Curves (MC-PAM)\\\\\" + LC_FOLDER_NAME\n",
    "DIR_SIGMA = \"C:\\\\Users\\\\Owner\\\\OneDrive - UTS\\\\Chapter 4\\\\Chapter 4 Experimental Data\\\\Sigma(II)\\\\\" + SIMGA_FOLDER_NAME\n",
    "DIR_OUTPUT = \"C:\\\\Users\\\\Owner\\\\OneDrive - UTS\\\\Chapter 4\\\\Chapter 4 Experimental Data\\\\Organised Data\\\\\"\n",
    "os.chdir(DIR_LC)"
   ]
  },
  {
   "cell_type": "markdown",
   "metadata": {},
   "source": [
    "## Import Files"
   ]
  },
  {
   "cell_type": "code",
   "execution_count": 518,
   "metadata": {},
   "outputs": [],
   "source": [
    "## Import Light Curve Files\n",
    "LIGHT_CURVE_FILES = {\"Bottle1\": \"{}\\\\PB1.csv\".format(DIR_LC),\n",
    "              \"Bottle2\": \"{}\\\\PB2.csv\".format(DIR_LC),\n",
    "               \"Bottle3\": \"{}\\\\PB3.csv\".format(DIR_LC),\n",
    "               \"Bottle4\": \"{}\\\\PB4.csv\".format(DIR_LC),\n",
    "               \"Bottle6\": \"{}\\\\PB6.csv\".format(DIR_LC),\n",
    "               \"Bottle7\": \"{}\\\\PB7.csv\".format(DIR_LC),\n",
    "               \"Bottle8\": \"{}\\\\PB8.csv\".format(DIR_LC),\n",
    "               \"Bottle9\": \"{}\\\\PB9.csv\".format(DIR_LC),\n",
    "               \"Bottle10\": \"{}\\\\PB10.csv\".format(DIR_LC),\n",
    "              }\n",
    "\n",
    "LC_DATA = list()\n",
    "for i in range(11):\n",
    "    try:\n",
    "        if i != 0 and i != 5:\n",
    "            data = pd.read_csv(LIGHT_CURVE_FILES[\"Bottle{}\".format(i)], sep=\";\", encoding='cp1252')\n",
    "            LC_DATA.append(data)\n",
    "        else:\n",
    "            pass\n",
    "    except (pd.errors.ParserError, NameError) as e:\n",
    "        data = pd.read_csv(LIGHT_CURVE_FILES[\"Bottle{}\".format(i)], sep=\",\", encoding='cp1252')\n",
    "        LC_DATA.append(data)"
   ]
  },
  {
   "cell_type": "code",
   "execution_count": 519,
   "metadata": {},
   "outputs": [],
   "source": [
    "## Import Sigma Files\n",
    "SIGMA_FILES = {\"Bottle1\": \"{}\\\\PB1.csv\".format(DIR_SIGMA),\n",
    "              \"Bottle2\": \"{}\\\\PB2.csv\".format(DIR_SIGMA),\n",
    "               \"Bottle3\": \"{}\\\\PB3.csv\".format(DIR_SIGMA),\n",
    "               \"Bottle4\": \"{}\\\\PB4.csv\".format(DIR_SIGMA),\n",
    "               \"Bottle6\": \"{}\\\\PB6.csv\".format(DIR_SIGMA),\n",
    "               \"Bottle7\": \"{}\\\\PB7.csv\".format(DIR_SIGMA),\n",
    "               \"Bottle8\": \"{}\\\\PB8.csv\".format(DIR_SIGMA),\n",
    "               \"Bottle9\": \"{}\\\\PB9.csv\".format(DIR_SIGMA),\n",
    "               \"Bottle10\": \"{}\\\\PB10.csv\".format(DIR_SIGMA),\n",
    "              }\n",
    "\n",
    "SIGMA_DATA = list()\n",
    "for i in range(11):\n",
    "    if i != 0 and i != 5:\n",
    "        data = pd.read_csv(SIGMA_FILES[\"Bottle{}\".format(i)], sep=\";\", encoding='cp1252')\n",
    "        SIGMA_DATA.append(data)    "
   ]
  },
  {
   "cell_type": "markdown",
   "metadata": {},
   "source": [
    "## Process Light Curve Data"
   ]
  },
  {
   "cell_type": "code",
   "execution_count": 520,
   "metadata": {},
   "outputs": [],
   "source": [
    "## Bottle number conversion\n",
    "# 1 = 0\n",
    "# 2 = 1\n",
    "# 3 = 2\n",
    "# 4 = 3\n",
    "# 6 = 4\n",
    "# 7 = 5\n",
    "# 8 = 6\n",
    "# 9 = 7\n",
    "# 10 = 8"
   ]
  },
  {
   "cell_type": "markdown",
   "metadata": {},
   "source": [
    "#### White Light"
   ]
  },
  {
   "cell_type": "code",
   "execution_count": 521,
   "metadata": {},
   "outputs": [],
   "source": [
    "with open(DIR_OUTPUT + \"White_LC_Average_Parameters.csv\", \"a\", newline=\"\") as f:\n",
    "    writer = csv.writer(f)\n",
    "    writer.writerow([\"PAR\", \"Y(II)\", \"Y(II)StDev\", \"Y(NPQ)\", \"Y(NPQ)StDev\", \"NPQ\", \"NPQStDev\",\n",
    "                    \"qN\", \"qNStDev\", \"qP\", \"qPStDev\", \"qL\", \"qLStDev\", \"ETR\", \"ETRStDev\"])\n",
    "    for i in range(len(LC_DATA[0][\"ETR\"])):\n",
    "        ## Calc & Append Averages\n",
    "        PAR = (LC_DATA[0][\"PAR\"][i] + LC_DATA[1][\"PAR\"][i] + LC_DATA[2][\"PAR\"][i]) / 3\n",
    "        YII = (LC_DATA[0][\"Y(II)\"][i] + LC_DATA[1][\"Y(II)\"][i] + LC_DATA[2][\"Y(II)\"][i]) / 3\n",
    "        YNPQ = (LC_DATA[0][\"Y(NPQ)\"][i] + LC_DATA[1][\"Y(NPQ)\"][i] + LC_DATA[2][\"Y(NPQ)\"][i]) / 3\n",
    "        NPQ = (LC_DATA[0][\"NPQ\"][i] + LC_DATA[1][\"NPQ\"][i] + LC_DATA[2][\"NPQ\"][i]) / 3\n",
    "        QN = (LC_DATA[0][\"qN\"][i] + LC_DATA[1][\"qN\"][i] + LC_DATA[2][\"qN\"][i]) / 3\n",
    "        QP = (LC_DATA[0][\"qP\"][i] + LC_DATA[1][\"qP\"][i] + LC_DATA[2][\"qP\"][i]) / 3\n",
    "        QL = (LC_DATA[0][\"qL\"][i] + LC_DATA[1][\"qL\"][i] + LC_DATA[2][\"qL\"][i]) / 3\n",
    "        ETR = (LC_DATA[0][\"ETR\"][i] + LC_DATA[1][\"ETR\"][i] + LC_DATA[2][\"ETR\"][i]) / 3\n",
    "\n",
    "        ## Calc & Append StDev\n",
    "        STDEV_YII = np.std([LC_DATA[0][\"Y(II)\"][i], LC_DATA[1][\"Y(II)\"][i], \n",
    "                                       LC_DATA[2][\"Y(II)\"][i]])\n",
    "        STDEV_YNPQ = np.std([LC_DATA[0][\"Y(NPQ)\"][i], LC_DATA[1][\"Y(NPQ)\"][i], \n",
    "                                       LC_DATA[2][\"Y(NPQ)\"][i]])\n",
    "        STDEV_NPQ = np.std([LC_DATA[0][\"NPQ\"][i], LC_DATA[1][\"NPQ\"][i], \n",
    "                                       LC_DATA[2][\"NPQ\"][i]])\n",
    "        STDEV_QN = np.std([LC_DATA[0][\"qN\"][i], LC_DATA[1][\"qN\"][i], \n",
    "                                       LC_DATA[2][\"qN\"][i]])\n",
    "        STDEV_QP = np.std([LC_DATA[0][\"qP\"][i], LC_DATA[1][\"qP\"][i], \n",
    "                                       LC_DATA[2][\"qP\"][i]])\n",
    "        STDEV_QL = np.std([LC_DATA[0][\"qL\"][i], LC_DATA[1][\"qL\"][i], \n",
    "                                       LC_DATA[2][\"qL\"][i]])\n",
    "        STDEV_ETR = np.std([LC_DATA[0][\"ETR\"][i], LC_DATA[1][\"ETR\"][i], \n",
    "                                       LC_DATA[2][\"ETR\"][i]])\n",
    "\n",
    "        writer.writerow([PAR, YII, STDEV_YII, YNPQ, STDEV_YNPQ, NPQ, STDEV_NPQ, QN, STDEV_QN, \n",
    "                         QP, STDEV_QP, QL, STDEV_QL, ETR, STDEV_ETR])\n",
    "f.close()"
   ]
  },
  {
   "cell_type": "markdown",
   "metadata": {},
   "source": [
    "#### RGB Light"
   ]
  },
  {
   "cell_type": "code",
   "execution_count": 522,
   "metadata": {},
   "outputs": [],
   "source": [
    "with open(DIR_OUTPUT + \"RGB_LC_Average_Parameters.csv\", \"a\", newline=\"\") as f:\n",
    "    writer = csv.writer(f)\n",
    "    writer.writerow([\"PAR\", \"Y(II)\", \"Y(II)StDev\", \"Y(NPQ)\", \"Y(NPQ)StDev\", \"NPQ\", \"NPQStDev\",\n",
    "                    \"qN\", \"qNStDev\", \"qP\", \"qPStDev\", \"qL\", \"qLStDev\", \"ETR\", \"ETRStDev\"])\n",
    "    for i in range(len(LC_DATA[4][\"ETR\"])):\n",
    "        ## Calc & Append Averages\n",
    "        PAR = (LC_DATA[4][\"PAR\"][i] + LC_DATA[5][\"PAR\"][i] + LC_DATA[6][\"PAR\"][i]) / 3\n",
    "        YII = (LC_DATA[4][\"Y(II)\"][i] + LC_DATA[5][\"Y(II)\"][i] + LC_DATA[6][\"Y(II)\"][i]) / 3\n",
    "        YNPQ = (LC_DATA[4][\"Y(NPQ)\"][i] + LC_DATA[5][\"Y(NPQ)\"][i] + LC_DATA[6][\"Y(NPQ)\"][i]) / 3\n",
    "        NPQ = (LC_DATA[4][\"NPQ\"][i] + LC_DATA[5][\"NPQ\"][i] + LC_DATA[6][\"NPQ\"][i]) / 3\n",
    "        QN = (LC_DATA[4][\"qN\"][i] + LC_DATA[5][\"qN\"][i] + LC_DATA[6][\"qN\"][i]) / 3\n",
    "        QP = (LC_DATA[4][\"qP\"][i] + LC_DATA[5][\"qP\"][i] + LC_DATA[6][\"qP\"][i]) / 3\n",
    "        QL = (LC_DATA[4][\"qL\"][i] + LC_DATA[5][\"qL\"][i] + LC_DATA[6][\"qL\"][i]) / 3\n",
    "        ETR = (LC_DATA[4][\"ETR\"][i] + LC_DATA[5][\"ETR\"][i] + LC_DATA[6][\"ETR\"][i]) / 3\n",
    "\n",
    "        ## Calc & Append StDev\n",
    "        STDEV_YII = np.std([LC_DATA[4][\"Y(II)\"][i], LC_DATA[5][\"Y(II)\"][i], \n",
    "                                       LC_DATA[6][\"Y(II)\"][i]])\n",
    "        STDEV_YNPQ = np.std([LC_DATA[4][\"Y(NPQ)\"][i], LC_DATA[5][\"Y(NPQ)\"][i], \n",
    "                                       LC_DATA[6][\"Y(NPQ)\"][i]])\n",
    "        STDEV_NPQ = np.std([LC_DATA[4][\"NPQ\"][i], LC_DATA[5][\"NPQ\"][i], \n",
    "                                       LC_DATA[6][\"NPQ\"][i]])\n",
    "        STDEV_QN = np.std([LC_DATA[4][\"qN\"][i], LC_DATA[5][\"qN\"][i], \n",
    "                                       LC_DATA[6][\"qN\"][i]])\n",
    "        STDEV_QP = np.std([LC_DATA[4][\"qP\"][i], LC_DATA[5][\"qP\"][i], \n",
    "                                       LC_DATA[6][\"qP\"][i]])\n",
    "        STDEV_QL = np.std([LC_DATA[4][\"qL\"][i], LC_DATA[5][\"qL\"][i], \n",
    "                                       LC_DATA[6][\"qL\"][i]])\n",
    "        STDEV_ETR = np.std([LC_DATA[4][\"ETR\"][i], LC_DATA[5][\"ETR\"][i], \n",
    "                                       LC_DATA[6][\"ETR\"][i]])\n",
    "\n",
    "        writer.writerow([PAR, YII, STDEV_YII, YNPQ, STDEV_YNPQ, NPQ, STDEV_NPQ, QN, STDEV_QN, \n",
    "                         QP, STDEV_QP, QL, STDEV_QL, ETR, STDEV_ETR])\n",
    "f.close()"
   ]
  },
  {
   "cell_type": "markdown",
   "metadata": {},
   "source": [
    "#### RG Light"
   ]
  },
  {
   "cell_type": "code",
   "execution_count": 523,
   "metadata": {},
   "outputs": [],
   "source": [
    "with open(DIR_OUTPUT + \"RB_LC_Average_Parameters.csv\", \"a\", newline=\"\") as f:\n",
    "    writer = csv.writer(f)\n",
    "    writer.writerow([\"PAR\", \"Y(II)\", \"Y(II)StDev\", \"Y(NPQ)\", \"Y(NPQ)StDev\", \"NPQ\", \"NPQStDev\",\n",
    "                    \"qN\", \"qNStDev\", \"qP\", \"qPStDev\", \"qL\", \"qLStDev\", \"ETR\", \"ETRStDev\"])\n",
    "    for i in range(len(LC_DATA[3][\"ETR\"])):\n",
    "        ## Calc & Append Averages\n",
    "        PAR = (LC_DATA[3][\"PAR\"][i] + LC_DATA[7][\"PAR\"][i] + LC_DATA[8][\"PAR\"][i]) / 3\n",
    "        YII = (LC_DATA[3][\"Y(II)\"][i] + LC_DATA[7][\"Y(II)\"][i] + LC_DATA[8][\"Y(II)\"][i]) / 3\n",
    "        YNPQ = (LC_DATA[3][\"Y(NPQ)\"][i] + LC_DATA[7][\"Y(NPQ)\"][i] + LC_DATA[8][\"Y(NPQ)\"][i]) / 3\n",
    "        NPQ = (LC_DATA[3][\"NPQ\"][i] + LC_DATA[7][\"NPQ\"][i] + LC_DATA[8][\"NPQ\"][i]) / 3\n",
    "        QN = (LC_DATA[3][\"qN\"][i] + LC_DATA[7][\"qN\"][i] + LC_DATA[8][\"qN\"][i]) / 3\n",
    "        QP = (LC_DATA[3][\"qP\"][i] + LC_DATA[7][\"qP\"][i] + LC_DATA[8][\"qP\"][i]) / 3\n",
    "        QL = (LC_DATA[3][\"qL\"][i] + LC_DATA[7][\"qL\"][i] + LC_DATA[8][\"qL\"][i]) / 3\n",
    "        ETR = (LC_DATA[3][\"ETR\"][i] + LC_DATA[7][\"ETR\"][i] + LC_DATA[8][\"ETR\"][i]) / 3\n",
    "\n",
    "        ## Calc & Append StDev\n",
    "        STDEV_YII = np.std([LC_DATA[3][\"Y(II)\"][i], LC_DATA[7][\"Y(II)\"][i], \n",
    "                                       LC_DATA[8][\"Y(II)\"][i]])\n",
    "        STDEV_YNPQ = np.std([LC_DATA[3][\"Y(NPQ)\"][i], LC_DATA[7][\"Y(NPQ)\"][i], \n",
    "                                       LC_DATA[8][\"Y(NPQ)\"][i]])\n",
    "        STDEV_NPQ = np.std([LC_DATA[3][\"NPQ\"][i], LC_DATA[7][\"NPQ\"][i], \n",
    "                                       LC_DATA[8][\"NPQ\"][i]])\n",
    "        STDEV_QN = np.std([LC_DATA[3][\"qN\"][i], LC_DATA[7][\"qN\"][i], \n",
    "                                       LC_DATA[8][\"qN\"][i]])\n",
    "        STDEV_QP = np.std([LC_DATA[3][\"qP\"][i], LC_DATA[7][\"qP\"][i], \n",
    "                                       LC_DATA[8][\"qP\"][i]])\n",
    "        STDEV_QL = np.std([LC_DATA[3][\"qL\"][i], LC_DATA[7][\"qL\"][i], \n",
    "                                       LC_DATA[8][\"qL\"][i]])\n",
    "        STDEV_ETR = np.std([LC_DATA[3][\"ETR\"][i], LC_DATA[7][\"ETR\"][i], \n",
    "                                       LC_DATA[8][\"ETR\"][i]])\n",
    "\n",
    "        writer.writerow([PAR, YII, STDEV_YII, YNPQ, STDEV_YNPQ, NPQ, STDEV_NPQ, QN, STDEV_QN, \n",
    "                         QP, STDEV_QP, QL, STDEV_QL, ETR, STDEV_ETR])\n",
    "f.close()"
   ]
  },
  {
   "cell_type": "markdown",
   "metadata": {},
   "source": [
    "## Sigma Sort and Average"
   ]
  },
  {
   "cell_type": "code",
   "execution_count": 437,
   "metadata": {},
   "outputs": [],
   "source": [
    "## Sort Sigma Values into Dictionary\n",
    "WAVELENGTH_VALUES, SIGMA_VALUES ={},{}\n",
    "for i in range(len(SIGMA_DATA)):\n",
    "    WAVELENGTH_NM, SIGMA_NM = [], []\n",
    "    for wavelength, sigma in zip(SIGMA_DATA[i][\"Comment\"][1:], SIGMA_DATA[i][\"Sigma\"][1:]):\n",
    "        WAVELENGTH_NM.append(int(wavelength[:-2]))\n",
    "        SIGMA_NM.append(float(sigma))\n",
    "    WAVELENGTH_VALUES[\"Bottle{}\".format(i)] = [WAVELENGTH_NM]\n",
    "    SIGMA_VALUES[\"Bottle{}\".format(i)] = [SIGMA_NM]"
   ]
  },
  {
   "cell_type": "code",
   "execution_count": 438,
   "metadata": {},
   "outputs": [],
   "source": [
    "## Average & StDev Sigma\n",
    "WHITE_SIGMA, WHITE_SIGMA_STDEV = [], []\n",
    "for REP1 in SIGMA_VALUES[\"Bottle0\"]:\n",
    "    for REP2 in SIGMA_VALUES[\"Bottle1\"]:\n",
    "        for REP3 in SIGMA_VALUES[\"Bottle2\"]:\n",
    "            for i in range(min(len(REP1), len(REP2), len(REP3))):\n",
    "                SIGMA_AV = (REP1[i] + REP2[i] + REP3[i]) / 3\n",
    "                WHITE_SIGMA.append(round(SIGMA_AV, 3))\n",
    "                SIGMA_STDEV = np.std([REP1[i], REP2[i], REP3[i]])\n",
    "                WHITE_SIGMA_STDEV.append(round(SIGMA_STDEV, 3))\n",
    "\n",
    "RGB_SIGMA, RGB_SIGMA_STDEV = [], []\n",
    "for REP1 in SIGMA_VALUES[\"Bottle4\"]:\n",
    "    for REP2 in SIGMA_VALUES[\"Bottle5\"]:\n",
    "        for REP3 in SIGMA_VALUES[\"Bottle6\"]:\n",
    "            for i in range(min(len(REP1), len(REP2), len(REP3))):\n",
    "                SIGMA_AV = (REP1[i] + REP2[i] + REP3[i]) / 3\n",
    "                RGB_SIGMA.append(round(SIGMA_AV, 3))\n",
    "                SIGMA_STDEV = np.std([REP1[i], REP2[i], REP3[i]])\n",
    "                RGB_SIGMA_STDEV.append(round(SIGMA_STDEV, 3))\n",
    "                \n",
    "RB_SIGMA, RB_SIGMA_STDEV = [], []\n",
    "for REP1 in SIGMA_VALUES[\"Bottle3\"]:\n",
    "    for REP2 in SIGMA_VALUES[\"Bottle7\"]:\n",
    "        for REP3 in SIGMA_VALUES[\"Bottle8\"]:\n",
    "            for i in range(min(len(REP1), len(REP2), len(REP3))):\n",
    "                SIGMA_AV = (REP1[i] + REP2[i] + REP3[i]) / 3\n",
    "                RB_SIGMA.append(round(SIGMA_AV, 3))\n",
    "                SIGMA_STDEV = np.std([REP1[i], REP2[i], REP3[i]])\n",
    "                RB_SIGMA_STDEV.append(round(SIGMA_STDEV, 3))\n"
   ]
  },
  {
   "cell_type": "code",
   "execution_count": 439,
   "metadata": {},
   "outputs": [],
   "source": [
    "## Insert into CSV file\n",
    "with open(DIR_OUTPUT + \"Sigma_Averages.csv\", \"a\", newline=\"\") as f:\n",
    "    writer = csv.writer(f)\n",
    "    writer.writerow([SIMGA_FOLDER_NAME, \"WhiteAv\", \"WhiteStDev\",\n",
    "                     \"RGBAv\", \"RGBStDev\", \"RBAv\", \"RBStDev\"])\n",
    "    for i in range(len(WHITE_SIGMA)):\n",
    "        writer.writerow([\"\", WHITE_SIGMA[i], WHITE_SIGMA_STDEV[i], RGB_SIGMA[i], \n",
    "                         RGB_SIGMA_STDEV[i], RB_SIGMA[i], RB_SIGMA_STDEV[i]])\n",
    "f.close()  "
   ]
  },
  {
   "cell_type": "markdown",
   "metadata": {},
   "source": [
    "## Calculate PAR(II) and ETR(II)"
   ]
  },
  {
   "cell_type": "code",
   "execution_count": 292,
   "metadata": {},
   "outputs": [],
   "source": [
    "## Calculate PAR(II) and ETR(II)\n",
    "PAR_II_VALUES = {}\n",
    "ETR_II_VALUES = {}\n",
    "for i in range(len(LC_DATA)):\n",
    "    PARII_VALUES, ETRII_VALUES = [], []\n",
    "    for x in range(len(LC_DATA[i][\"ETR\"])):\n",
    "        PAR_II_CALC = float(SIGMA_DATA[i][\"Sigma\"][5])  * 0.6022 * LC_DATA[i][\"PAR\"][x] \n",
    "        ETR_II_CALC = PAR_II_CALC * (LC_DATA[i][\"Y(II)\"][x] / np.nanmax(LC_DATA[i][\"Y(II)\"]))\n",
    "        PARII_VALUES.append(PAR_II_CALC)\n",
    "        ETRII_VALUES.append(ETR_II_CALC)\n",
    "    PAR_II_VALUES[\"Bottle{}\".format(i)] = [PARII_VALUES]\n",
    "    ETR_II_VALUES[\"Bottle{}\".format(i)] = [ETRII_VALUES]"
   ]
  },
  {
   "cell_type": "code",
   "execution_count": 293,
   "metadata": {},
   "outputs": [],
   "source": [
    "## Average  & STDev of PAR(II)\n",
    "## White Light Treatment\n",
    "WHITE_PARII, WHITE_PARII_STDEV = [], []\n",
    "for REP1 in PAR_II_VALUES[\"Bottle0\"]:\n",
    "    for REP2 in PAR_II_VALUES[\"Bottle1\"]:\n",
    "        for REP3 in PAR_II_VALUES[\"Bottle2\"]:\n",
    "            for i in range(min(len(REP1), len(REP2), len(REP3))):\n",
    "                WHITE_PARII.append((REP1[i] + REP2[i] + REP3[i]) / 3)\n",
    "                WHITE_PARII_STDEV.append(np.std([REP1[i], REP2[i], REP3[i]]))\n",
    "\n",
    "## RGB Light Treatment\n",
    "RGB_PARII, RGB_PARII_STDEV = [], []\n",
    "for REP1 in PAR_II_VALUES[\"Bottle4\"]:\n",
    "    for REP2 in PAR_II_VALUES[\"Bottle5\"]:\n",
    "        for REP3 in PAR_II_VALUES[\"Bottle6\"]:\n",
    "            for i in range(min(len(REP1), len(REP2), len(REP3))):\n",
    "                RGB_PARII.append((REP1[i] + REP2[i] + REP3[i]) / 3)    \n",
    "                RGB_PARII_STDEV.append(np.std([REP1[i], REP2[i], REP3[i]]))\n",
    "                \n",
    "## RB Light Treatment\n",
    "RB_PARII, RB_PARII_STDEV = [], []\n",
    "for REP1 in PAR_II_VALUES[\"Bottle3\"]:\n",
    "    for REP2 in PAR_II_VALUES[\"Bottle7\"]:\n",
    "        for REP3 in PAR_II_VALUES[\"Bottle8\"]:\n",
    "            for i in range(min(len(REP1), len(REP2), len(REP3))):\n",
    "                RB_PARII.append((REP1[i] + REP2[i] + REP3[i]) / 3)  \n",
    "                RB_PARII_STDEV.append(np.std([REP1[i], REP2[i], REP3[i]]))\n",
    "                "
   ]
  },
  {
   "cell_type": "code",
   "execution_count": 294,
   "metadata": {},
   "outputs": [],
   "source": [
    "## Average & STDev of ETR(II)\n",
    "## White Light Treatment\n",
    "WHITE_ETRII, WHITE_ETRII_STDEV = [], []\n",
    "for REP1 in ETR_II_VALUES[\"Bottle0\"]:\n",
    "    for REP2 in ETR_II_VALUES[\"Bottle1\"]:\n",
    "        for REP3 in ETR_II_VALUES[\"Bottle2\"]:\n",
    "            for i in range(min(len(REP1), len(REP2), len(REP3))):\n",
    "                WHITE_ETRII.append((REP1[i] + REP2[i] + REP3[i]) / 3)\n",
    "                WHITE_ETRII_STDEV.append(np.std([REP1[i], REP2[i], REP3[i]]))\n",
    "\n",
    "## RGB Light Treatment\n",
    "RGB_ETRII, RGB_ETRII_STDEV = [], []\n",
    "for REP1 in ETR_II_VALUES[\"Bottle4\"]:\n",
    "    for REP2 in ETR_II_VALUES[\"Bottle5\"]:\n",
    "        for REP3 in ETR_II_VALUES[\"Bottle6\"]:\n",
    "            for i in range(min(len(REP1), len(REP2), len(REP3))):\n",
    "                RGB_ETRII.append((REP1[i] + REP2[i] + REP3[i]) / 3)  \n",
    "                RGB_ETRII_STDEV.append(np.std([REP1[i], REP2[i], REP3[i]]))\n",
    "                \n",
    "## RB Light Treatment\n",
    "RB_ETRII, RB_ETRII_STDEV = [], []\n",
    "for REP1 in ETR_II_VALUES[\"Bottle3\"]:\n",
    "    for REP2 in ETR_II_VALUES[\"Bottle7\"]:\n",
    "        for REP3 in ETR_II_VALUES[\"Bottle8\"]:\n",
    "            for i in range(min(len(REP1), len(REP2), len(REP3))):\n",
    "                RB_ETRII.append((REP1[i] + REP2[i] + REP3[i]) / 3)\n",
    "                RB_ETRII_STDEV.append(np.std([REP1[i], REP2[i], REP3[i]]))"
   ]
  },
  {
   "cell_type": "code",
   "execution_count": 295,
   "metadata": {},
   "outputs": [
    {
     "data": {
      "text/plain": [
       "<ErrorbarContainer object of 3 artists>"
      ]
     },
     "execution_count": 295,
     "metadata": {},
     "output_type": "execute_result"
    },
    {
     "data": {
      "image/png": "[encoded data removed]",
      "text/plain": [
       "<Figure size 432x288 with 1 Axes>"
      ]
     },
     "metadata": {
      "needs_background": "light"
     },
     "output_type": "display_data"
    }
   ],
   "source": [
    "## Test Plot\n",
    "plt.errorbar(RB_PARII, RB_ETRII, yerr=RB_ETRII_STDEV, xerr=RB_PARII_STDEV, c='r')\n",
    "plt.errorbar(RGB_PARII, RGB_ETRII, yerr=RGB_ETRII_STDEV, xerr=RGB_PARII_STDEV, c='b')\n",
    "plt.errorbar(WHITE_PARII, WHITE_ETRII, yerr=WHITE_ETRII_STDEV, xerr=WHITE_PARII_STDEV, c='k')"
   ]
  },
  {
   "cell_type": "code",
   "execution_count": 296,
   "metadata": {},
   "outputs": [],
   "source": [
    "with open(DIR_OUTPUT + \"LC_Averages.csv\", \"a\", newline=\"\") as f:\n",
    "    writer = csv.writer(f)\n",
    "    writer.writerow([LC_FOLDER_NAME,\"WhitePARII_Av\", \"WhitePARII_StDev\", \n",
    "                     \"WhiteETRII_Av\", \"WhiteETRII_StDev\", \n",
    "                    \"RGBPARII_Av\", \"RGBPARII_StDev\", \n",
    "                     \"RGBETRII_Av\", \"RGBETRII_StDev\", \n",
    "                    \"RBPARII_Av\", \"RBPARII_StDev\", \n",
    "                     \"RBETRII_Av\", \"RBETRII_StDev\"])\n",
    "    for i in range(len(WHITE_PARII)):\n",
    "        writer.writerow([\"\",WHITE_PARII[i], WHITE_PARII_STDEV[i], \n",
    "                         WHITE_ETRII[i], WHITE_ETRII_STDEV[i],\n",
    "                        RGB_PARII[i], RGB_PARII_STDEV[i], \n",
    "                         RGB_ETRII[i], RGB_ETRII_STDEV[i],\n",
    "                        RB_PARII[i], RB_PARII_STDEV[i], \n",
    "                         RB_ETRII[i], RB_ETRII_STDEV[i]])\n",
    "f.close()"
   ]
  },
  {
   "cell_type": "code",
   "execution_count": null,
   "metadata": {},
   "outputs": [],
   "source": []
  }
 ],
 "metadata": {
  "kernelspec": {
   "display_name": "Python 3",
   "language": "python",
   "name": "python3"
  },
  "language_info": {
   "codemirror_mode": {
    "name": "ipython",
    "version": 3
   },
   "file_extension": ".py",
   "mimetype": "text/x-python",
   "name": "python",
   "nbconvert_exporter": "python",
   "pygments_lexer": "ipython3",
   "version": "3.7.4"
  }
 },
 "nbformat": 4,
 "nbformat_minor": 2
}
